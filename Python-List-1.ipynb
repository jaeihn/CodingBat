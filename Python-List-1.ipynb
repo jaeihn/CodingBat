{
 "cells": [
  {
   "cell_type": "markdown",
   "id": "65436b9e-c265-40f5-bcb5-1ac74b845886",
   "metadata": {},
   "source": [
    "# CodingBat - Python - List 1\n",
    "[Link to questions](https://codingbat.com/python/List-1)\n",
    "\n",
    "List-1의 해법들. 루프 없는 list 문제들. 허탈할 정도로 쉬운 문제들도 있고... 어쨌거나 자주 쓰이는 list의 behavior를 복습할 수 있어 좋았다. (가령 마지막 문제같은 것. 까먹고 있었다.) 프로그래밍 할 때는 이루고자 하는 목적을 염두에 두고 \"분명 이렇게 자주 겪는 문제는 함수가 따로 있을텐데\"라고 끊임없이 생각하며 구글을 유용하게 써 먹는 것이 좋다. 프로그래머들은 나태하고 (찐임), 대부분의 문제들은 이미 풀린 문제다. \n",
    "\n",
    "(+) if문을 사용한다면 마지막에 error catcher 넣는 걸 잊지 말자. "
   ]
  },
  {
   "cell_type": "code",
   "execution_count": 1,
   "id": "7bf76d58-d495-4e23-9706-45c4a270cd9d",
   "metadata": {},
   "outputs": [],
   "source": [
    "def first_last6(nums):\n",
    "    return nums[0]==6 or nums[-1]==6"
   ]
  },
  {
   "cell_type": "code",
   "execution_count": 2,
   "id": "b00ee01c-222a-451f-aa97-b8ef3e76cab0",
   "metadata": {},
   "outputs": [],
   "source": [
    "def same_first_last(nums):\n",
    "    if len(nums)>=1:\n",
    "        return nums[0]==nums[-1]\n",
    "    return False"
   ]
  },
  {
   "cell_type": "code",
   "execution_count": 3,
   "id": "d0151865-c22c-4cb3-b3d4-f0f1312425e6",
   "metadata": {},
   "outputs": [],
   "source": [
    "def make_pi():\n",
    "    return [3,1,4]"
   ]
  },
  {
   "cell_type": "code",
   "execution_count": 4,
   "id": "8d739595-f86b-488e-89b8-baff36ab6b7c",
   "metadata": {},
   "outputs": [],
   "source": [
    "def common_end(a, b):\n",
    "    return a[0]==b[0] or a[-1]==b[-1]"
   ]
  },
  {
   "cell_type": "code",
   "execution_count": 5,
   "id": "b8ea3e30-4385-458a-9b2b-a319767f15bd",
   "metadata": {},
   "outputs": [],
   "source": [
    "def sum3(nums):\n",
    "    return sum(nums)"
   ]
  },
  {
   "cell_type": "code",
   "execution_count": 6,
   "id": "6b79ad99-3630-46b3-8472-e33994f36800",
   "metadata": {},
   "outputs": [],
   "source": [
    "def rotate_left3(nums):\n",
    "    nums.append(nums[0])\n",
    "    return nums[1:]"
   ]
  },
  {
   "cell_type": "code",
   "execution_count": 7,
   "id": "f5c57ea8-d0e1-46cb-b0d0-4595c154959a",
   "metadata": {},
   "outputs": [],
   "source": [
    "def reverse3(nums):\n",
    "    nums.reverse()\n",
    "    return nums"
   ]
  },
  {
   "cell_type": "code",
   "execution_count": 8,
   "id": "ed4ac4eb-37fc-4196-a359-d6c31a04f0f1",
   "metadata": {},
   "outputs": [],
   "source": [
    "def max_end3(nums):\n",
    "    n = max(nums[0],nums[-1])\n",
    "    return [n,n,n]"
   ]
  },
  {
   "cell_type": "code",
   "execution_count": 9,
   "id": "c3d947e3-80cb-4811-8508-4c3b0a8e01eb",
   "metadata": {},
   "outputs": [],
   "source": [
    "def sum2(nums):\n",
    "    if len(nums)>2:\n",
    "        return sum(nums[:2])\n",
    "    return sum(nums)"
   ]
  },
  {
   "cell_type": "code",
   "execution_count": 10,
   "id": "f69e0b47-f43a-41cd-9323-ee3620c52afa",
   "metadata": {},
   "outputs": [],
   "source": [
    "def middle_way(a, b):\n",
    "    return [a[1], b[1]]"
   ]
  },
  {
   "cell_type": "code",
   "execution_count": 11,
   "id": "a0b136ae-1427-4937-9d94-64ee0f43cd03",
   "metadata": {},
   "outputs": [],
   "source": [
    "def make_ends(nums):\n",
    "    return [nums[0],nums[-1]]"
   ]
  },
  {
   "cell_type": "code",
   "execution_count": 12,
   "id": "d443a1a2-3615-4461-ab6b-1719480e1bbd",
   "metadata": {},
   "outputs": [],
   "source": [
    "def has23(nums):\n",
    "    return (2 in nums) or (3 in nums)"
   ]
  }
 ],
 "metadata": {
  "kernelspec": {
   "display_name": "Python 3 (ipykernel)",
   "language": "python",
   "name": "python3"
  },
  "language_info": {
   "codemirror_mode": {
    "name": "ipython",
    "version": 3
   },
   "file_extension": ".py",
   "mimetype": "text/x-python",
   "name": "python",
   "nbconvert_exporter": "python",
   "pygments_lexer": "ipython3",
   "version": "3.10.6"
  }
 },
 "nbformat": 4,
 "nbformat_minor": 5
}
