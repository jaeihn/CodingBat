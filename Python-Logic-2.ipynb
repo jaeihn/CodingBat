{
 "cells": [
  {
   "cell_type": "markdown",
   "id": "65436b9e-c265-40f5-bcb5-1ac74b845886",
   "metadata": {},
   "source": [
    "# CodingBat - Python - Logic 2\n",
    "[Link to questions](https://codingbat.com/python/Logic-2)\n",
    "\n",
    "Logic-2의 해법들. if, else, not을 이용한 boolean 논리 문제들. 하앙 논리 퍼즐 재밌어. 논리 퍼즐 최고야...."
   ]
  },
  {
   "cell_type": "code",
   "execution_count": 1,
   "id": "8a40dca1-ab74-4589-a409-9ea8e565dd37",
   "metadata": {},
   "outputs": [],
   "source": [
    "def make_bricks(small, big, goal):\n",
    "    return big*5+small>=goal and goal%5<=small"
   ]
  },
  {
   "cell_type": "code",
   "execution_count": 2,
   "id": "01e2f560-15e1-45d6-93f9-7139c5dc1b3a",
   "metadata": {},
   "outputs": [],
   "source": [
    "# 너무 강행 해법인 느낌... 더 우아한 방법이 있을 것 같은데... \n",
    "def lone_sum(a, b, c):\n",
    "    s=0\n",
    "    if a!=b and a!=c:\n",
    "        s=s+a\n",
    "    if b!=a and b!=c:\n",
    "        s=s+b\n",
    "    if c!=a and c!=b:\n",
    "        s=s+c\n",
    "    return s"
   ]
  },
  {
   "cell_type": "code",
   "execution_count": 3,
   "id": "7c3baa22-3149-4621-bac8-6cec9d78d942",
   "metadata": {},
   "outputs": [],
   "source": [
    "def lucky_sum(a, b, c):\n",
    "    if a==13:\n",
    "        return 0\n",
    "    if b==13:\n",
    "        return a\n",
    "    if c==13:\n",
    "        return a+b\n",
    "    return a+b+c"
   ]
  },
  {
   "cell_type": "code",
   "execution_count": 4,
   "id": "ce747080-0b7e-4fe5-838c-f70012305046",
   "metadata": {},
   "outputs": [],
   "source": [
    "def fix_teen(n):\n",
    "    return n>=13 and n<=19 and n!=15 and n!=16"
   ]
  },
  {
   "cell_type": "code",
   "execution_count": 5,
   "id": "f8e5c26b-6a8a-4dee-8ea6-2dbc3623ca6d",
   "metadata": {},
   "outputs": [],
   "source": [
    "def no_teen_sum(a, b, c):\n",
    "    s=0\n",
    "    for n in [a,b,c]:\n",
    "        if not fix_teen(n):\n",
    "            s=s+n\n",
    "    return s"
   ]
  },
  {
   "cell_type": "code",
   "execution_count": 6,
   "id": "8a64fa12-ef8a-4d64-82c4-65f68cb2e551",
   "metadata": {},
   "outputs": [],
   "source": [
    "def round10(num):\n",
    "    if num%10<=4:\n",
    "        return num-num%10\n",
    "    return num+(10-num%10)"
   ]
  },
  {
   "cell_type": "code",
   "execution_count": 7,
   "id": "1d6d47f8-5aec-4e62-a7e4-16bcd43afa8f",
   "metadata": {},
   "outputs": [],
   "source": [
    "def round_sum(a, b, c):\n",
    "    return round10(a)+round10(b)+round10(c)"
   ]
  },
  {
   "cell_type": "code",
   "execution_count": 8,
   "id": "e708d2ba-b7f1-4fca-8826-023b952b8608",
   "metadata": {},
   "outputs": [],
   "source": [
    "def close_far(a, b, c):\n",
    "    if (abs(a-b)<=1 or abs(a-c)<=1) and (abs(c-a)>=2 and abs(c-b)>=2) or (abs(b-a)>=2 and abs(c-b)>=2):\n",
    "        return True\n",
    "    return False"
   ]
  },
  {
   "cell_type": "code",
   "execution_count": 9,
   "id": "86c542c9-d0db-4f6c-820f-428c1be55689",
   "metadata": {},
   "outputs": [],
   "source": [
    "def make_chocolate(small, big, goal):\n",
    "    if not (big*5+small>=goal and goal%5<=small):\n",
    "        return -1\n",
    "    top=big\n",
    "    for i in range(big,-1,-1):\n",
    "        if i*5>goal:\n",
    "            top=top-1\n",
    "    return goal-top*5"
   ]
  }
 ],
 "metadata": {
  "kernelspec": {
   "display_name": "Python 3 (ipykernel)",
   "language": "python",
   "name": "python3"
  },
  "language_info": {
   "codemirror_mode": {
    "name": "ipython",
    "version": 3
   },
   "file_extension": ".py",
   "mimetype": "text/x-python",
   "name": "python",
   "nbconvert_exporter": "python",
   "pygments_lexer": "ipython3",
   "version": "3.10.6"
  }
 },
 "nbformat": 4,
 "nbformat_minor": 5
}
