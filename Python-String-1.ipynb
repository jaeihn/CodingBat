{
 "cells": [
  {
   "cell_type": "markdown",
   "id": "65436b9e-c265-40f5-bcb5-1ac74b845886",
   "metadata": {},
   "source": [
    "# CodingBat - Python - String 1\n",
    "[Link to questions](https://codingbat.com/python/String-1)\n",
    "\n",
    "String-1의 해법들. 루프를 사용하지 않는 간단한 string 문제들. \n",
    "\n",
    "코드 시험 용으로 사용될 input들이 상냥해서 (기괴하고 멍청한 입력값들이 없다는 뜻) 지나치게 쉬웠다. 가령 input의 length가 2여야만 하는 함수면 절대로 len(input)==2인 input만 준다는 것. 세상은 그렇게 상냥하지 않아... "
   ]
  },
  {
   "cell_type": "code",
   "execution_count": 1,
   "id": "7bf76d58-d495-4e23-9706-45c4a270cd9d",
   "metadata": {},
   "outputs": [],
   "source": [
    "def hello_name(name):\n",
    "    return \"Hello \"+name+\"!\""
   ]
  },
  {
   "cell_type": "code",
   "execution_count": 2,
   "id": "b00ee01c-222a-451f-aa97-b8ef3e76cab0",
   "metadata": {},
   "outputs": [],
   "source": [
    "def make_abba(a, b):\n",
    "    return a+b+b+a"
   ]
  },
  {
   "cell_type": "code",
   "execution_count": 3,
   "id": "d0151865-c22c-4cb3-b3d4-f0f1312425e6",
   "metadata": {},
   "outputs": [],
   "source": [
    "def make_tags(tag, word):\n",
    "    return '<'+tag+'>'+word+'</'+tag+'>'"
   ]
  },
  {
   "cell_type": "code",
   "execution_count": 4,
   "id": "8d739595-f86b-488e-89b8-baff36ab6b7c",
   "metadata": {},
   "outputs": [],
   "source": [
    "# 완전성 높게 하려면 out이 정말 네 자리 string인지 확인해 보는게 좋겠지만 귀찮았다. \n",
    "def make_out_word(out, word):\n",
    "    return out[:2]+word+out[2:]"
   ]
  },
  {
   "cell_type": "code",
   "execution_count": 5,
   "id": "b8ea3e30-4385-458a-9b2b-a319767f15bd",
   "metadata": {},
   "outputs": [],
   "source": [
    "def extra_end(s):\n",
    "    copies = s[-2:]\n",
    "    return copies+copies+copies"
   ]
  },
  {
   "cell_type": "code",
   "execution_count": 6,
   "id": "6b79ad99-3630-46b3-8472-e33994f36800",
   "metadata": {},
   "outputs": [],
   "source": [
    "def first_two(s):\n",
    "    if len(s)<2:\n",
    "        return s\n",
    "    return s[:2]"
   ]
  },
  {
   "cell_type": "code",
   "execution_count": 7,
   "id": "848a1d9c-5929-4cc3-a1b3-92257c5b0048",
   "metadata": {},
   "outputs": [],
   "source": [
    "# 얘도 len(s)이 짝수일거라는 보장이 없으니 확인하는 게 맞음. \n",
    "def first_half(s):\n",
    "    halfline = len(s)/2\n",
    "    return s[:halfline]"
   ]
  },
  {
   "cell_type": "code",
   "execution_count": 8,
   "id": "7aabd914-6bd7-47e8-9293-c23e18e79e71",
   "metadata": {},
   "outputs": [],
   "source": [
    "def without_end(s):\n",
    "    return s[1:-1]"
   ]
  },
  {
   "cell_type": "code",
   "execution_count": 9,
   "id": "407778d6-703c-471e-b417-c3280ad6c60e",
   "metadata": {},
   "outputs": [],
   "source": [
    "def combo_string(a, b):\n",
    "    if len(a)>len(b):\n",
    "        return b+a+b\n",
    "    return a+b+a"
   ]
  },
  {
   "cell_type": "code",
   "execution_count": 10,
   "id": "699ef87c-eac6-4112-afa0-252aad852167",
   "metadata": {},
   "outputs": [],
   "source": [
    "def non_start(a, b):\n",
    "    return a[1:]+b[1:]"
   ]
  },
  {
   "cell_type": "code",
   "execution_count": 11,
   "id": "005ed7fe-c0ce-41f9-9596-3ef0bc48a7ae",
   "metadata": {},
   "outputs": [],
   "source": [
    "def left2(s):\n",
    "    return s[2:]+s[:2]"
   ]
  }
 ],
 "metadata": {
  "kernelspec": {
   "display_name": "Python 3 (ipykernel)",
   "language": "python",
   "name": "python3"
  },
  "language_info": {
   "codemirror_mode": {
    "name": "ipython",
    "version": 3
   },
   "file_extension": ".py",
   "mimetype": "text/x-python",
   "name": "python",
   "nbconvert_exporter": "python",
   "pygments_lexer": "ipython3",
   "version": "3.10.6"
  }
 },
 "nbformat": 4,
 "nbformat_minor": 5
}
