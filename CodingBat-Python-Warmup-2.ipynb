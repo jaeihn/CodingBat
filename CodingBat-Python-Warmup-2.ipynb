{
 "cells": [
  {
   "cell_type": "markdown",
   "id": "65436b9e-c265-40f5-bcb5-1ac74b845886",
   "metadata": {},
   "source": [
    "# CodingBat - Python - Warmup 2\n",
    "[Link to questions](https://codingbat.com/python/Warmup-2)\n",
    "\n",
    "Warmup-2의 개인적 해법들. 루프를 사용하는 string/list 관련 문제들. "
   ]
  },
  {
   "cell_type": "code",
   "execution_count": 1,
   "id": "7bf76d58-d495-4e23-9706-45c4a270cd9d",
   "metadata": {},
   "outputs": [],
   "source": [
    "def string_times(str, n):\n",
    "    copies = ''\n",
    "    for i in range(n):\n",
    "        copies = copies+str\n",
    "    return copies\n"
   ]
  },
  {
   "cell_type": "code",
   "execution_count": 2,
   "id": "b00ee01c-222a-451f-aa97-b8ef3e76cab0",
   "metadata": {},
   "outputs": [],
   "source": [
    "def front_times(str, n):\n",
    "    copies=''\n",
    "    if len(str)<3:\n",
    "        template=str\n",
    "    else:\n",
    "        template=str[:3]  \n",
    "    for i in range(n):\n",
    "        copies=copies+template\n",
    "    return copies   "
   ]
  },
  {
   "cell_type": "code",
   "execution_count": 3,
   "id": "d0151865-c22c-4cb3-b3d4-f0f1312425e6",
   "metadata": {},
   "outputs": [],
   "source": [
    "def string_bits(str):\n",
    "    bit=''\n",
    "    for i in range(len(str)):\n",
    "        if i%2==0:\n",
    "            bit=bit+str[i]\n",
    "    return bit"
   ]
  },
  {
   "cell_type": "code",
   "execution_count": 4,
   "id": "8d739595-f86b-488e-89b8-baff36ab6b7c",
   "metadata": {},
   "outputs": [],
   "source": [
    "def string_splosion(str):\n",
    "    splosion=''\n",
    "    for i in range(len(str)):\n",
    "        splosion=splosion+str[:i+1]\n",
    "    return splosion"
   ]
  },
  {
   "cell_type": "code",
   "execution_count": 5,
   "id": "b8ea3e30-4385-458a-9b2b-a319767f15bd",
   "metadata": {},
   "outputs": [],
   "source": [
    "def last2(str):\n",
    "    count=0\n",
    "    if len(str)>=4:\n",
    "        template=str[-2:]\n",
    "        for i in range(len(str)-2):\n",
    "            if str[i:i+2]==template:\n",
    "                count=count+1\n",
    "    return count\n"
   ]
  },
  {
   "cell_type": "code",
   "execution_count": 6,
   "id": "6b79ad99-3630-46b3-8472-e33994f36800",
   "metadata": {},
   "outputs": [],
   "source": [
    "def array_count9(nums):\n",
    "    count=0\n",
    "    for n in nums:\n",
    "        if n==9:\n",
    "            count=count+1\n",
    "    return count"
   ]
  },
  {
   "cell_type": "code",
   "execution_count": 7,
   "id": "848a1d9c-5929-4cc3-a1b3-92257c5b0048",
   "metadata": {},
   "outputs": [],
   "source": [
    "def array_front9(nums):\n",
    "    for i in range(len(nums)):\n",
    "        if i<4 and nums[i]==9:\n",
    "            return True\n",
    "    return False"
   ]
  },
  {
   "cell_type": "code",
   "execution_count": 8,
   "id": "7aabd914-6bd7-47e8-9293-c23e18e79e71",
   "metadata": {},
   "outputs": [],
   "source": [
    "def array123(nums):\n",
    "    if len(nums)>=3:\n",
    "        for i in range(len(nums)-2):\n",
    "            if nums[i]==1 and nums[i+1]==2 and nums[i+2]==3:\n",
    "                return True\n",
    "    return False\n"
   ]
  },
  {
   "cell_type": "code",
   "execution_count": 9,
   "id": "407778d6-703c-471e-b417-c3280ad6c60e",
   "metadata": {},
   "outputs": [],
   "source": [
    "def string_match(a, b):\n",
    "    count=0\n",
    "    for i in range(len(min([a,b]))-1):\n",
    "        if a[i:i+2]==b[i:i+2]:\n",
    "            count=count+1\n",
    "    return count"
   ]
  }
 ],
 "metadata": {
  "kernelspec": {
   "display_name": "Python 3 (ipykernel)",
   "language": "python",
   "name": "python3"
  },
  "language_info": {
   "codemirror_mode": {
    "name": "ipython",
    "version": 3
   },
   "file_extension": ".py",
   "mimetype": "text/x-python",
   "name": "python",
   "nbconvert_exporter": "python",
   "pygments_lexer": "ipython3",
   "version": "3.10.6"
  }
 },
 "nbformat": 4,
 "nbformat_minor": 5
}
