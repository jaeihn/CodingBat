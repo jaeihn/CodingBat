{
 "cells": [
  {
   "cell_type": "markdown",
   "id": "65436b9e-c265-40f5-bcb5-1ac74b845886",
   "metadata": {},
   "source": [
    "# CodingBat - Python - Logic 1\n",
    "[Link to questions](https://codingbat.com/python/Logic-1)\n",
    "\n",
    "Logic-1의 해법들. if, else, not을 이용한 초간단 boolean 논리 문제들. \n",
    "논리 퍼즐은 쉽든 어렵든 언제나 설레고 재밌다. 문제가 귀여워. "
   ]
  },
  {
   "cell_type": "code",
   "execution_count": 1,
   "id": "7bf76d58-d495-4e23-9706-45c4a270cd9d",
   "metadata": {},
   "outputs": [],
   "source": [
    "def cigar_party(cigars, is_weekend):\n",
    "    return cigars>=40 and (is_weekend or cigars<=60)"
   ]
  },
  {
   "cell_type": "code",
   "execution_count": 2,
   "id": "b00ee01c-222a-451f-aa97-b8ef3e76cab0",
   "metadata": {},
   "outputs": [],
   "source": [
    "def date_fashion(you, date):\n",
    "    if you<=2 or date<=2:\n",
    "        return 0\n",
    "    if you>=8 or date>=8:\n",
    "        return 2\n",
    "    return 1"
   ]
  },
  {
   "cell_type": "code",
   "execution_count": 3,
   "id": "d0151865-c22c-4cb3-b3d4-f0f1312425e6",
   "metadata": {},
   "outputs": [],
   "source": [
    "def squirrel_play(temp, is_summer):\n",
    "    if is_summer:\n",
    "        upper=100\n",
    "    else:\n",
    "        upper=90\n",
    "    return temp>=60 and temp<=upper"
   ]
  },
  {
   "cell_type": "code",
   "execution_count": 4,
   "id": "8d739595-f86b-488e-89b8-baff36ab6b7c",
   "metadata": {},
   "outputs": [],
   "source": [
    "def caught_speeding(speed, is_birthday):\n",
    "    if is_birthday:\n",
    "        lower=65\n",
    "        upper=85\n",
    "    else:\n",
    "        lower=60\n",
    "        upper=80\n",
    "  \n",
    "    if speed<=lower:\n",
    "        return 0\n",
    "    elif speed>lower and speed<=upper:\n",
    "        return 1\n",
    "    else:\n",
    "        return 2"
   ]
  },
  {
   "cell_type": "code",
   "execution_count": 5,
   "id": "b8ea3e30-4385-458a-9b2b-a319767f15bd",
   "metadata": {},
   "outputs": [],
   "source": [
    "def sorta_sum(a, b):\n",
    "    if a+b>=10 and a+b<=19:\n",
    "        return 20\n",
    "    else:\n",
    "        return a+b"
   ]
  },
  {
   "cell_type": "code",
   "execution_count": 6,
   "id": "6b79ad99-3630-46b3-8472-e33994f36800",
   "metadata": {},
   "outputs": [],
   "source": [
    "def alarm_clock(day, vacation):\n",
    "    if day==0 or day==6:\n",
    "        weekend=True\n",
    "    else:\n",
    "        weekend=False\n",
    "    if vacation and weekend:\n",
    "        return \"off\"\n",
    "    elif (vacation and not weekend) or (not vacation and weekend):\n",
    "        return \"10:00\"\n",
    "    else:\n",
    "        return \"7:00\""
   ]
  },
  {
   "cell_type": "code",
   "execution_count": 7,
   "id": "102299ee-085f-4810-8cf4-fd0e21387f7d",
   "metadata": {},
   "outputs": [],
   "source": [
    "def love6(a, b):\n",
    "    s=a+b\n",
    "    dif=abs(a-b)\n",
    "    return s==6 or dif==6 or a==6 or b==6"
   ]
  },
  {
   "cell_type": "code",
   "execution_count": 8,
   "id": "7cd52639-3109-4fac-89aa-d1e771733439",
   "metadata": {},
   "outputs": [],
   "source": [
    "def in1to10(n, outside_mode):\n",
    "    if outside_mode:\n",
    "        return n<=1 or n>=10\n",
    "    return n>=1 and n<=10"
   ]
  },
  {
   "cell_type": "code",
   "execution_count": 9,
   "id": "c8b14c78-7fbd-48d6-a9f1-7c937dc90995",
   "metadata": {},
   "outputs": [],
   "source": [
    "def near_ten(num):\n",
    "    return num%10<=2 or num%10>=8"
   ]
  }
 ],
 "metadata": {
  "kernelspec": {
   "display_name": "Python 3 (ipykernel)",
   "language": "python",
   "name": "python3"
  },
  "language_info": {
   "codemirror_mode": {
    "name": "ipython",
    "version": 3
   },
   "file_extension": ".py",
   "mimetype": "text/x-python",
   "name": "python",
   "nbconvert_exporter": "python",
   "pygments_lexer": "ipython3",
   "version": "3.10.6"
  }
 },
 "nbformat": 4,
 "nbformat_minor": 5
}
