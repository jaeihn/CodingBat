{
 "cells": [
  {
   "cell_type": "markdown",
   "id": "65436b9e-c265-40f5-bcb5-1ac74b845886",
   "metadata": {},
   "source": [
    "# CodingBat - Python - String 2\n",
    "[Link to questions](https://codingbat.com/python/String-2)\n",
    "\n",
    "String-2의 해법들. 루프가 하나 들어가는 string 문제들. 마지막 문제가 재밌었다.  "
   ]
  },
  {
   "cell_type": "code",
   "execution_count": 1,
   "id": "7bf76d58-d495-4e23-9706-45c4a270cd9d",
   "metadata": {},
   "outputs": [],
   "source": [
    "def double_char(s):\n",
    "    word = ''\n",
    "    for i in s:\n",
    "        word = word+i+i\n",
    "    return word"
   ]
  },
  {
   "cell_type": "code",
   "execution_count": 2,
   "id": "b00ee01c-222a-451f-aa97-b8ef3e76cab0",
   "metadata": {},
   "outputs": [],
   "source": [
    "def count_hi(s):\n",
    "    count=0\n",
    "    if len(s)>=2:\n",
    "        for i in range(len(s)-1):\n",
    "            if s[i:i+2]=='hi':\n",
    "                count=count+1\n",
    "    return count"
   ]
  },
  {
   "cell_type": "code",
   "execution_count": 3,
   "id": "d0151865-c22c-4cb3-b3d4-f0f1312425e6",
   "metadata": {},
   "outputs": [],
   "source": [
    "# 마지막 리턴이 마음에 든다 ㅎㅎ\n",
    "def cat_dog(s):\n",
    "    cat=0\n",
    "    dog=0\n",
    "    if len(s)>=3:\n",
    "        for i in range(len(s)-2):\n",
    "            if s[i:i+3]=='cat':\n",
    "                cat=cat+1\n",
    "            if s[i:i+3]=='dog':\n",
    "                dog=dog+1\n",
    "    return cat==dog"
   ]
  },
  {
   "cell_type": "code",
   "execution_count": 4,
   "id": "8d739595-f86b-488e-89b8-baff36ab6b7c",
   "metadata": {},
   "outputs": [],
   "source": [
    "def count_code(s):\n",
    "    count=0\n",
    "    if len(s)>=4:\n",
    "        for i in range(len(s)-3):\n",
    "            if s[i:i+2]=='co' and s[i+3]=='e':\n",
    "                count=count+1\n",
    "    return count"
   ]
  },
  {
   "cell_type": "code",
   "execution_count": 5,
   "id": "b8ea3e30-4385-458a-9b2b-a319767f15bd",
   "metadata": {},
   "outputs": [],
   "source": [
    "def end_other(a, b):\n",
    "    if len(a)<len(b):\n",
    "        shorter=a.lower()\n",
    "        longer=b.lower()\n",
    "    else:\n",
    "        shorter=b.lower()\n",
    "        longer=a.lower()\n",
    "    return longer[-len(shorter):]==shorter"
   ]
  },
  {
   "cell_type": "code",
   "execution_count": 6,
   "id": "6b79ad99-3630-46b3-8472-e33994f36800",
   "metadata": {},
   "outputs": [],
   "source": [
    "def xyz_there(s):\n",
    "    if len(s)<4:\n",
    "        return s=='xyz'\n",
    "    for i in range(len(s)-3, -1, -1):\n",
    "        if s[i:i+3]=='xyz' and s[i-1]!='.':\n",
    "            return True\n",
    "    return False"
   ]
  }
 ],
 "metadata": {
  "kernelspec": {
   "display_name": "Python 3 (ipykernel)",
   "language": "python",
   "name": "python3"
  },
  "language_info": {
   "codemirror_mode": {
    "name": "ipython",
    "version": 3
   },
   "file_extension": ".py",
   "mimetype": "text/x-python",
   "name": "python",
   "nbconvert_exporter": "python",
   "pygments_lexer": "ipython3",
   "version": "3.10.6"
  }
 },
 "nbformat": 4,
 "nbformat_minor": 5
}
