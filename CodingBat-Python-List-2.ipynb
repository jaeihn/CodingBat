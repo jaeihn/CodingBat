{
 "cells": [
  {
   "cell_type": "markdown",
   "id": "65436b9e-c265-40f5-bcb5-1ac74b845886",
   "metadata": {},
   "source": [
    "# CodingBat - Python - List 2\n",
    "[Link to questions](https://codingbat.com/python/List-2)\n",
    "\n",
    "List-2의 해법들. 루프 있는 list 문제들. 놀라운 건 없다. "
   ]
  },
  {
   "cell_type": "code",
   "execution_count": 1,
   "id": "7bf76d58-d495-4e23-9706-45c4a270cd9d",
   "metadata": {},
   "outputs": [],
   "source": [
    "def count_evens(nums):\n",
    "    count=0\n",
    "    for n in nums:\n",
    "        if n%2==0:\n",
    "            count=count+1\n",
    "    return count"
   ]
  },
  {
   "cell_type": "code",
   "execution_count": 2,
   "id": "b00ee01c-222a-451f-aa97-b8ef3e76cab0",
   "metadata": {},
   "outputs": [],
   "source": [
    "def big_diff(nums):\n",
    "    return max(nums)-min(nums)"
   ]
  },
  {
   "cell_type": "code",
   "execution_count": 3,
   "id": "d0151865-c22c-4cb3-b3d4-f0f1312425e6",
   "metadata": {},
   "outputs": [],
   "source": [
    "# ㅋㅋㅋ나태함의 대가인가.\n",
    "def centered_average(nums):\n",
    "    nums.sort()\n",
    "    return sum(nums[1:-1])/(len(nums)-2)"
   ]
  },
  {
   "cell_type": "code",
   "execution_count": 4,
   "id": "8d739595-f86b-488e-89b8-baff36ab6b7c",
   "metadata": {},
   "outputs": [],
   "source": [
    "# and 항이 좀 안 우아하긴 한데 접근방식은 되게 괜찮은 것 같다.\n",
    "def sum13(nums):\n",
    "    minus=0\n",
    "    for i in range(len(nums)):\n",
    "        if nums[i]==13 or (nums[i-1]==13 and i!=0):\n",
    "            minus=minus+nums[i]\n",
    "    return sum(nums)-minus"
   ]
  },
  {
   "cell_type": "code",
   "execution_count": 5,
   "id": "b8ea3e30-4385-458a-9b2b-a319767f15bd",
   "metadata": {},
   "outputs": [],
   "source": [
    "# 이게 최선인가...? 끄응...\n",
    "def sum67(nums):\n",
    "    s=0\n",
    "    state=0\n",
    "    for n in nums:\n",
    "        if state==0:\n",
    "            if n!=6:\n",
    "                s=s+n\n",
    "            if n==6:\n",
    "                state=1\n",
    "        else:\n",
    "            if n==7:\n",
    "                state=0\n",
    "    return s"
   ]
  },
  {
   "cell_type": "code",
   "execution_count": 6,
   "id": "6b79ad99-3630-46b3-8472-e33994f36800",
   "metadata": {},
   "outputs": [],
   "source": [
    "# indentation 조심합시다. \n",
    "def has22(nums):\n",
    "    for i in range(len(nums)-1):\n",
    "        if nums[i]==2 and nums[i+1]==2:\n",
    "            return True\n",
    "    return False"
   ]
  }
 ],
 "metadata": {
  "kernelspec": {
   "display_name": "Python 3 (ipykernel)",
   "language": "python",
   "name": "python3"
  },
  "language_info": {
   "codemirror_mode": {
    "name": "ipython",
    "version": 3
   },
   "file_extension": ".py",
   "mimetype": "text/x-python",
   "name": "python",
   "nbconvert_exporter": "python",
   "pygments_lexer": "ipython3",
   "version": "3.10.6"
  }
 },
 "nbformat": 4,
 "nbformat_minor": 5
}
