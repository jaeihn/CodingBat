{
 "cells": [
  {
   "cell_type": "markdown",
   "id": "65436b9e-c265-40f5-bcb5-1ac74b845886",
   "metadata": {},
   "source": [
    "# CodingBat - Python - Warmup 1\n",
    "[Link to questions](https://codingbat.com/python/Warmup-1)\n",
    "\n",
    "Warmup-1의 해법들. 루프조차 쓰지 않는 간단한 손풀기 (뇌풀기?) 용 문제들. \n",
    "해법이 예쁜 애들도 있고 안 예쁜 애들도 있다. "
   ]
  },
  {
   "cell_type": "code",
   "execution_count": 1,
   "id": "7bf76d58-d495-4e23-9706-45c4a270cd9d",
   "metadata": {},
   "outputs": [],
   "source": [
    "def sleep_in(weekday, vacation):\n",
    "    return (not weekday or vacation)"
   ]
  },
  {
   "cell_type": "code",
   "execution_count": 2,
   "id": "b00ee01c-222a-451f-aa97-b8ef3e76cab0",
   "metadata": {},
   "outputs": [],
   "source": [
    "def monkey_trouble(a_smile, b_smile):\n",
    "    if a_smile==b_smile:\n",
    "        return True\n",
    "    return False"
   ]
  },
  {
   "cell_type": "code",
   "execution_count": 3,
   "id": "d0151865-c22c-4cb3-b3d4-f0f1312425e6",
   "metadata": {},
   "outputs": [],
   "source": [
    "def sum_double(a, b):\n",
    "    if a==b:\n",
    "        return 2*(a+b)\n",
    "    return a+b"
   ]
  },
  {
   "cell_type": "code",
   "execution_count": 4,
   "id": "8d739595-f86b-488e-89b8-baff36ab6b7c",
   "metadata": {},
   "outputs": [],
   "source": [
    "def diff21(n):\n",
    "    if n > 21:\n",
    "        return 2*abs(n-21)\n",
    "    return abs(n-21)"
   ]
  },
  {
   "cell_type": "code",
   "execution_count": 5,
   "id": "b8ea3e30-4385-458a-9b2b-a319767f15bd",
   "metadata": {},
   "outputs": [],
   "source": [
    "def parrot_trouble(talking, hour):\n",
    "    if hour<7 or hour>20:\n",
    "        return talking\n",
    "    return False"
   ]
  },
  {
   "cell_type": "code",
   "execution_count": 6,
   "id": "6b79ad99-3630-46b3-8472-e33994f36800",
   "metadata": {},
   "outputs": [],
   "source": [
    "def makes10(a, b):\n",
    "    if a+b==10 or a==10 or b==10:\n",
    "        return True\n",
    "    return False"
   ]
  },
  {
   "cell_type": "code",
   "execution_count": 7,
   "id": "848a1d9c-5929-4cc3-a1b3-92257c5b0048",
   "metadata": {},
   "outputs": [],
   "source": [
    "def near_hundred(n):\n",
    "    if abs(n-100)<=10 or abs(n-200)<=10:\n",
    "        return True\n",
    "    return False"
   ]
  },
  {
   "cell_type": "code",
   "execution_count": 8,
   "id": "7aabd914-6bd7-47e8-9293-c23e18e79e71",
   "metadata": {},
   "outputs": [],
   "source": [
    "def pos_neg(a, b, negative):\n",
    "    if negative==True:\n",
    "        return a<0 and b<0\n",
    "    return (a<0 and b>0) or (a>0 and b<0)"
   ]
  },
  {
   "cell_type": "code",
   "execution_count": 9,
   "id": "407778d6-703c-471e-b417-c3280ad6c60e",
   "metadata": {},
   "outputs": [],
   "source": [
    "def not_string(str):\n",
    "    if len(str)>=3:\n",
    "        if str[:3]=='not':\n",
    "            return str\n",
    "    return 'not '+str"
   ]
  },
  {
   "cell_type": "code",
   "execution_count": 10,
   "id": "699ef87c-eac6-4112-afa0-252aad852167",
   "metadata": {},
   "outputs": [],
   "source": [
    "def missing_char(str, n):\n",
    "    return str[:n]+str[n+1:]  "
   ]
  },
  {
   "cell_type": "code",
   "execution_count": 11,
   "id": "005ed7fe-c0ce-41f9-9596-3ef0bc48a7ae",
   "metadata": {},
   "outputs": [],
   "source": [
    "def front_back(str):\n",
    "    if len(str) >=2:\n",
    "        return str[-1]+ str[1:len(str)-1]+str[0]\n",
    "    return str"
   ]
  },
  {
   "cell_type": "code",
   "execution_count": 12,
   "id": "8386c7ce-a03f-4408-a94e-616ece64e497",
   "metadata": {},
   "outputs": [],
   "source": [
    "def front3(str):\n",
    "    if len(str)<3:\n",
    "        return str+str+str\n",
    "    return str[:3]+str[:3]+str[:3]"
   ]
  }
 ],
 "metadata": {
  "kernelspec": {
   "display_name": "Python 3 (ipykernel)",
   "language": "python",
   "name": "python3"
  },
  "language_info": {
   "codemirror_mode": {
    "name": "ipython",
    "version": 3
   },
   "file_extension": ".py",
   "mimetype": "text/x-python",
   "name": "python",
   "nbconvert_exporter": "python",
   "pygments_lexer": "ipython3",
   "version": "3.10.6"
  }
 },
 "nbformat": 4,
 "nbformat_minor": 5
}
